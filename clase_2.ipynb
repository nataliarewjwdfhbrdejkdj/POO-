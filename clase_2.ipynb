{
  "nbformat": 4,
  "nbformat_minor": 0,
  "metadata": {
    "colab": {
      "provenance": []
    },
    "kernelspec": {
      "name": "python3",
      "display_name": "Python 3"
    },
    "language_info": {
      "name": "python"
    }
  },
  "cells": [
    {
      "cell_type": "code",
      "execution_count": null,
      "metadata": {
        "id": "56YHuBdUbfR9"
      },
      "outputs": [],
      "source": []
    },
    {
      "cell_type": "markdown",
      "source": [
        "# conjuntos y listas\n",
        "\n",
        "- conjuntos finitos:\n",
        "$$\\{ob_1, ob_2, \\dots, ob_n \\}$$\n",
        "\n",
        "- listas finitas\n",
        "$$[1_1, 1_2, \\dots, 1_n] $$\n",
        "\n",
        "----\n",
        "En python, existe la funcion `range(a,b)` donde $a,b\\geq 0$\n"
      ],
      "metadata": {
        "id": "JQhpGqSvcfo4"
      }
    },
    {
      "cell_type": "code",
      "source": [
        "range(10)"
      ],
      "metadata": {
        "colab": {
          "base_uri": "https://localhost:8080/"
        },
        "id": "Zszjs2M7gJzb",
        "outputId": "059c04be-be69-4776-8bd8-b50a0614ab4d"
      },
      "execution_count": 1,
      "outputs": [
        {
          "output_type": "execute_result",
          "data": {
            "text/plain": [
              "range(0, 10)"
            ]
          },
          "metadata": {},
          "execution_count": 1
        }
      ]
    },
    {
      "cell_type": "markdown",
      "source": [
        "¿como puedo ver los elementos de este generador de indices?"
      ],
      "metadata": {
        "id": "TTSgVhr4f34z"
      }
    },
    {
      "cell_type": "code",
      "source": [
        "for i in range(10) :\n",
        "  print(i)"
      ],
      "metadata": {
        "colab": {
          "base_uri": "https://localhost:8080/"
        },
        "id": "Lr55-FLOgB2U",
        "outputId": "887d0c28-f8d3-4ca3-9ef7-c70be2bda788"
      },
      "execution_count": 3,
      "outputs": [
        {
          "output_type": "stream",
          "name": "stdout",
          "text": [
            "0\n",
            "1\n",
            "2\n",
            "3\n",
            "4\n",
            "5\n",
            "6\n",
            "7\n",
            "8\n",
            "9\n"
          ]
        }
      ]
    },
    {
      "cell_type": "code",
      "source": [
        "# vamos a construir dos conjuntos\n",
        "pares = {i for i in range(21) if i%2==0}\n",
        "print(f\"pares: {pares}\")\n",
        "\n",
        "impares = {i for i in range(21)if i%2==1}\n",
        "print(f\"impares: {impares}\")"
      ],
      "metadata": {
        "colab": {
          "base_uri": "https://localhost:8080/"
        },
        "id": "4mpPM13yhAwJ",
        "outputId": "2acf9a0e-b940-4876-85e1-92d3712c5733"
      },
      "execution_count": 12,
      "outputs": [
        {
          "output_type": "stream",
          "name": "stdout",
          "text": [
            "pares: {0, 2, 4, 6, 8, 10, 12, 14, 16, 18, 20}\n",
            "impares: {1, 3, 5, 7, 9, 11, 13, 15, 17, 19}\n"
          ]
        }
      ]
    },
    {
      "cell_type": "code",
      "source": [
        "C = {17, 7, 27, 19, 77, 56, 8, 12, 10, 13, 20, 15}\n",
        "C, type(C)"
      ],
      "metadata": {
        "colab": {
          "base_uri": "https://localhost:8080/"
        },
        "id": "F1gDaRNHjU_l",
        "outputId": "8be81088-9578-452e-def3-602ebf594ce1"
      },
      "execution_count": 13,
      "outputs": [
        {
          "output_type": "execute_result",
          "data": {
            "text/plain": [
              "({7, 8, 10, 12, 13, 15, 17, 19, 20, 27, 56, 77}, set)"
            ]
          },
          "metadata": {},
          "execution_count": 13
        }
      ]
    },
    {
      "cell_type": "markdown",
      "source": [
        "**los objetos en python tienen atributos**"
      ],
      "metadata": {
        "id": "A7qskre7kFPk"
      }
    },
    {
      "cell_type": "code",
      "source": [
        "pares.intersection(impares) #el conjunto vacio"
      ],
      "metadata": {
        "colab": {
          "base_uri": "https://localhost:8080/"
        },
        "id": "_i3Jm3gEkLFy",
        "outputId": "6cd4450c-728b-4c03-894c-3ad87f59c63b"
      },
      "execution_count": 14,
      "outputs": [
        {
          "output_type": "execute_result",
          "data": {
            "text/plain": [
              "set()"
            ]
          },
          "metadata": {},
          "execution_count": 14
        }
      ]
    },
    {
      "cell_type": "code",
      "source": [
        "pares.union(impares)"
      ],
      "metadata": {
        "colab": {
          "base_uri": "https://localhost:8080/"
        },
        "id": "T7aTs36EklV_",
        "outputId": "403ace3e-3a0e-4e85-ff6b-fb73c26f2e80"
      },
      "execution_count": 15,
      "outputs": [
        {
          "output_type": "execute_result",
          "data": {
            "text/plain": [
              "{0, 1, 2, 3, 4, 5, 6, 7, 8, 9, 10, 11, 12, 13, 14, 15, 16, 17, 18, 19, 20}"
            ]
          },
          "metadata": {},
          "execution_count": 15
        }
      ]
    },
    {
      "cell_type": "code",
      "source": [
        "impares.difference(C) #nquitando los elementos de C a los impares"
      ],
      "metadata": {
        "colab": {
          "base_uri": "https://localhost:8080/"
        },
        "id": "J4uM4PuSlL6v",
        "outputId": "b46d473d-acd9-45cc-efa6-9f2c3edba5f1"
      },
      "execution_count": 17,
      "outputs": [
        {
          "output_type": "execute_result",
          "data": {
            "text/plain": [
              "{1, 3, 5, 9, 11}"
            ]
          },
          "metadata": {},
          "execution_count": 17
        }
      ]
    },
    {
      "cell_type": "code",
      "source": [
        "impares.difference(C)"
      ],
      "metadata": {
        "colab": {
          "base_uri": "https://localhost:8080/"
        },
        "id": "mtJFpRvLkxcM",
        "outputId": "9bb0f6ba-7f68-4f68-fcec-4728d4e74961"
      },
      "execution_count": 16,
      "outputs": [
        {
          "output_type": "execute_result",
          "data": {
            "text/plain": [
              "{1, 3, 5, 9, 11}"
            ]
          },
          "metadata": {},
          "execution_count": 16
        }
      ]
    },
    {
      "cell_type": "markdown",
      "source": [
        "## listas"
      ],
      "metadata": {
        "id": "-b4lW8M4lvHF"
      }
    },
    {
      "cell_type": "code",
      "source": [
        "lista_pares = list(pares)\n",
        "lista_pares"
      ],
      "metadata": {
        "colab": {
          "base_uri": "https://localhost:8080/"
        },
        "id": "1E88qxXhl1oy",
        "outputId": "77053600-33b3-4442-f231-fd98e0b0ee66"
      },
      "execution_count": 18,
      "outputs": [
        {
          "output_type": "execute_result",
          "data": {
            "text/plain": [
              "[0, 2, 4, 6, 8, 10, 12, 14, 16, 18, 20]"
            ]
          },
          "metadata": {},
          "execution_count": 18
        }
      ]
    }
  ]
}