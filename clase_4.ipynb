{
  "nbformat": 4,
  "nbformat_minor": 0,
  "metadata": {
    "colab": {
      "provenance": []
    },
    "kernelspec": {
      "name": "python3",
      "display_name": "Python 3"
    },
    "language_info": {
      "name": "python"
    }
  },
  "cells": [
    {
      "cell_type": "code",
      "execution_count": null,
      "metadata": {
        "id": "La1ddy9svVf1"
      },
      "outputs": [],
      "source": []
    },
    {
      "cell_type": "markdown",
      "source": [
        "# Arreglos y clases\n",
        "\n",
        "## Matrices\n",
        "es un arreglo de mxm elementos\n",
        "\n",
        "\n",
        "\\begin{bmatrix}\n",
        "a_{11} & a_{12} & \\cdots & a_{1m} \\\\\n",
        "a_{21} & a_{22} & \\cdots & a_{2m} \\\\\n",
        "\\vdots & \\vdots & \\ddots & \\vdots \\\\\n",
        "a_{m1} & a_{m2} & \\cdots & a_{mm}\n",
        "\\end{bmatrix}\n"
      ],
      "metadata": {
        "id": "P25vtG-EvWxu"
      }
    },
    {
      "cell_type": "code",
      "source": [
        "A=[[1,2,3],[4,5,6],[7,8,9]]\n",
        "print(A)"
      ],
      "metadata": {
        "colab": {
          "base_uri": "https://localhost:8080/"
        },
        "id": "aOJwGELVy_-1",
        "outputId": "b2c12011-d6b2-4c61-cdf5-39abd0896666"
      },
      "execution_count": 1,
      "outputs": [
        {
          "output_type": "stream",
          "name": "stdout",
          "text": [
            "[[1, 2, 3], [4, 5, 6], [7, 8, 9]]\n"
          ]
        }
      ]
    },
    {
      "cell_type": "code",
      "source": [
        "#vamos a crear extra\n",
        "B=[[21,34,40],[71,17,77],[73,81,28]]\n",
        "print (A+B)\n",
        "print (2*A)\n",
        "\n"
      ],
      "metadata": {
        "colab": {
          "base_uri": "https://localhost:8080/"
        },
        "id": "3ZVFnNIQzUCl",
        "outputId": "29657f13-5f17-40e6-91f4-6310050f4059"
      },
      "execution_count": 19,
      "outputs": [
        {
          "output_type": "stream",
          "name": "stdout",
          "text": [
            "[[1, 2, 3], [4, 5, 6], [7, 8, 9], [21, 34, 40], [71, 17, 77], [73, 81, 28]]\n",
            "[[1, 2, 3], [4, 5, 6], [7, 8, 9], [1, 2, 3], [4, 5, 6], [7, 8, 9]]\n"
          ]
        }
      ]
    },
    {
      "cell_type": "code",
      "source": [
        "A[0][0]\n",
        "[1,2,3]"
      ],
      "metadata": {
        "colab": {
          "base_uri": "https://localhost:8080/"
        },
        "id": "y6odhono1JQQ",
        "outputId": "bbe43e43-d840-4fe6-9469-aaf005ae90ad"
      },
      "execution_count": 6,
      "outputs": [
        {
          "output_type": "execute_result",
          "data": {
            "text/plain": [
              "[1, 2, 3]"
            ]
          },
          "metadata": {},
          "execution_count": 6
        }
      ]
    },
    {
      "cell_type": "code",
      "source": [
        "## Vectores y listas\n",
        "L=A[0]\n",
        "M=B[0]\n",
        "print(L)\n",
        "print(M)"
      ],
      "metadata": {
        "colab": {
          "base_uri": "https://localhost:8080/"
        },
        "id": "d4PJ0tYr1qcT",
        "outputId": "11364d00-af9c-4567-f875-5ea18c92a740"
      },
      "execution_count": 10,
      "outputs": [
        {
          "output_type": "stream",
          "name": "stdout",
          "text": [
            "[1, 2, 3]\n",
            "[21, 34, 40]\n"
          ]
        }
      ]
    },
    {
      "cell_type": "code",
      "source": [
        "a=L[0]\n",
        "b=M[0]\n",
        "print(a+b)\n",
        "a==1"
      ],
      "metadata": {
        "colab": {
          "base_uri": "https://localhost:8080/"
        },
        "id": "HAlYkZCb3_md",
        "outputId": "83c7905a-2a3c-4028-bd78-b44223c17a5b"
      },
      "execution_count": 18,
      "outputs": [
        {
          "output_type": "stream",
          "name": "stdout",
          "text": [
            "22\n"
          ]
        },
        {
          "output_type": "execute_result",
          "data": {
            "text/plain": [
              "True"
            ]
          },
          "metadata": {},
          "execution_count": 18
        }
      ]
    },
    {
      "cell_type": "code",
      "source": [
        "a==1"
      ],
      "metadata": {
        "colab": {
          "base_uri": "https://localhost:8080/"
        },
        "id": "4EPPKVd24Fhl",
        "outputId": "1df71926-de8c-44f8-e28a-1fe3eacdb20a"
      },
      "execution_count": 12,
      "outputs": [
        {
          "output_type": "execute_result",
          "data": {
            "text/plain": [
              "True"
            ]
          },
          "metadata": {},
          "execution_count": 12
        }
      ]
    },
    {
      "cell_type": "markdown",
      "source": [
        "### Suma de \"vectores\"\n"
      ],
      "metadata": {
        "id": "BokcJ17k4Jxv"
      }
    },
    {
      "cell_type": "code",
      "source": [
        "len(L)==len(M)\n",
        "\n",
        "suma=[L[0] + M[0], L[1]+M[1], L[2]+M[2]]\n",
        "\n",
        "print(suma)\n",
        "\n",
        "suma=[L[i]+M[i] for i in range (3)]\n",
        "suma"
      ],
      "metadata": {
        "colab": {
          "base_uri": "https://localhost:8080/"
        },
        "id": "2yk0wW0Y4Nzj",
        "outputId": "6f87ff29-c22a-4f38-d2ac-1c44940c84a5"
      },
      "execution_count": 22,
      "outputs": [
        {
          "output_type": "stream",
          "name": "stdout",
          "text": [
            "[22, 36, 43]\n"
          ]
        },
        {
          "output_type": "execute_result",
          "data": {
            "text/plain": [
              "[22, 36, 43]"
            ]
          },
          "metadata": {},
          "execution_count": 22
        }
      ]
    },
    {
      "cell_type": "markdown",
      "source": [
        "#### creacion de funciones globales\n",
        "\n",
        "La funcion para crear funciones es `def` que se cierra con un debug(`print o return`)"
      ],
      "metadata": {
        "id": "rTJHuUfWFeyV"
      }
    },
    {
      "cell_type": "code",
      "source": [
        "def Hola():\n",
        "  print(\"Hola, me llamo natalia\")\n"
      ],
      "metadata": {
        "id": "rOIr-5GnGO6S"
      },
      "execution_count": 24,
      "outputs": []
    },
    {
      "cell_type": "code",
      "source": [
        "Hola()"
      ],
      "metadata": {
        "colab": {
          "base_uri": "https://localhost:8080/"
        },
        "id": "OOF6QUkkGX13",
        "outputId": "09ac1b63-d036-4948-b63d-138c55675cdb"
      },
      "execution_count": 25,
      "outputs": [
        {
          "output_type": "stream",
          "name": "stdout",
          "text": [
            "Hola, me llamo natalia\n"
          ]
        }
      ]
    },
    {
      "cell_type": "code",
      "source": [
        "def saludar(s,n):\n",
        "  print(f\"Hola, me llano {s} y tengo {n} años\")"
      ],
      "metadata": {
        "id": "hvBGM9u4GaDB"
      },
      "execution_count": 28,
      "outputs": []
    },
    {
      "cell_type": "code",
      "source": [
        "saludar(\"natalia\", 18)"
      ],
      "metadata": {
        "colab": {
          "base_uri": "https://localhost:8080/"
        },
        "id": "AM5xgQcm6JWk",
        "outputId": "af8c927f-dfde-4815-fd69-43899c599563"
      },
      "execution_count": 29,
      "outputs": [
        {
          "output_type": "stream",
          "name": "stdout",
          "text": [
            "Hola, me llano natalia y tengo 18 años\n"
          ]
        }
      ]
    },
    {
      "cell_type": "code",
      "source": [
        "I = [i for i in range(10)]\n",
        "def par(x):\n",
        "  for x in range (10):\n",
        "    if x%2==0:\n",
        "      print(f\"{x} es par\")\n",
        "    else:\n",
        "      print(f\"{x} es impar\")"
      ],
      "metadata": {
        "id": "hsdUlxNhH6M-"
      },
      "execution_count": 42,
      "outputs": []
    },
    {
      "cell_type": "code",
      "source": [
        "par(6)"
      ],
      "metadata": {
        "colab": {
          "base_uri": "https://localhost:8080/"
        },
        "id": "a2eGlGlDIun-",
        "outputId": "78a5e9cd-5188-4b04-940c-560cd8021f04"
      },
      "execution_count": 40,
      "outputs": [
        {
          "output_type": "stream",
          "name": "stdout",
          "text": [
            "0 es par\n",
            "1 es impar\n",
            "2 es par\n",
            "3 es impar\n",
            "4 es par\n",
            "5 es impar\n",
            "6 es par\n",
            "7 es impar\n",
            "8 es par\n",
            "9 es impar\n"
          ]
        }
      ]
    },
    {
      "cell_type": "code",
      "source": [
        "def suma_vectorial(L,M):\n",
        "  x = [L[i]+M[i] for i in range(len(L))]\n",
        "  return x"
      ],
      "metadata": {
        "id": "i_ZRffhJLmnZ"
      },
      "execution_count": 55,
      "outputs": []
    },
    {
      "cell_type": "code",
      "source": [
        "L=[1,2,3]\n",
        "M=[21,34,40]\n",
        "suma_vectorial(L,M)"
      ],
      "metadata": {
        "colab": {
          "base_uri": "https://localhost:8080/"
        },
        "id": "PObAOBdoMhZ3",
        "outputId": "f4842e9b-eca3-4e03-cfc0-69929648b1dd"
      },
      "execution_count": 56,
      "outputs": [
        {
          "output_type": "execute_result",
          "data": {
            "text/plain": [
              "[22, 36, 43]"
            ]
          },
          "metadata": {},
          "execution_count": 56
        }
      ]
    },
    {
      "cell_type": "code",
      "source": [
        "\n"
      ],
      "metadata": {
        "id": "abKeYdY9Mrqn"
      },
      "execution_count": null,
      "outputs": []
    },
    {
      "cell_type": "markdown",
      "source": [
        "### Modulos o librerias\n"
      ],
      "metadata": {
        "id": "xYWDrj3UOO6O"
      }
    },
    {
      "cell_type": "code",
      "source": [
        "import math\n",
        "from math import sqrt,pi"
      ],
      "metadata": {
        "id": "4hwwR0-qOUOk"
      },
      "execution_count": 57,
      "outputs": []
    },
    {
      "cell_type": "code",
      "source": [
        "sqrt(68)"
      ],
      "metadata": {
        "colab": {
          "base_uri": "https://localhost:8080/"
        },
        "id": "A8XYRct7OavQ",
        "outputId": "daccfee1-01a1-4040-b4a7-cb856a004898"
      },
      "execution_count": 58,
      "outputs": [
        {
          "output_type": "execute_result",
          "data": {
            "text/plain": [
              "8.246211251235321"
            ]
          },
          "metadata": {},
          "execution_count": 58
        }
      ]
    },
    {
      "cell_type": "code",
      "source": [
        "pi"
      ],
      "metadata": {
        "colab": {
          "base_uri": "https://localhost:8080/"
        },
        "id": "eg2T17v0Od_4",
        "outputId": "bb6326a6-479e-40df-fecd-d858dcb95715"
      },
      "execution_count": 59,
      "outputs": [
        {
          "output_type": "execute_result",
          "data": {
            "text/plain": [
              "3.141592653589793"
            ]
          },
          "metadata": {},
          "execution_count": 59
        }
      ]
    },
    {
      "cell_type": "markdown",
      "source": [
        "## el modulo Numpy\n",
        "\n",
        "LAduncion  `array`"
      ],
      "metadata": {
        "id": "aiOx41AhOyCK"
      }
    },
    {
      "cell_type": "code",
      "source": [
        "import numpy as np\n",
        "\n",
        "L_vector = np.array(L)\n",
        "M_vector = np.array(M)\n",
        "\n",
        "L_vector + M_vector"
      ],
      "metadata": {
        "colab": {
          "base_uri": "https://localhost:8080/"
        },
        "id": "AaDr-01JO08Y",
        "outputId": "ae35954e-18e7-4d8c-f41e-42fcc966fef3"
      },
      "execution_count": 60,
      "outputs": [
        {
          "output_type": "execute_result",
          "data": {
            "text/plain": [
              "array([22, 36, 43])"
            ]
          },
          "metadata": {},
          "execution_count": 60
        }
      ]
    },
    {
      "cell_type": "code",
      "source": [
        "C = [9,2,2,2,3,3,2,17,2]\n",
        "A = [8,1,1,1,2,2,1,16,1]\n",
        "\n",
        "C_matriz = np.array(C).reshape(3,3)\n",
        "A_matriz = np.array(A).reshape(3,3)\n",
        "\n",
        "print(C_matriz)\n",
        "print(A_matriz)"
      ],
      "metadata": {
        "colab": {
          "base_uri": "https://localhost:8080/"
        },
        "id": "UIJ2WG_zQbR5",
        "outputId": "44bbe4ce-e501-419e-c9f2-5f9bc3344138"
      },
      "execution_count": 62,
      "outputs": [
        {
          "output_type": "stream",
          "name": "stdout",
          "text": [
            "[[ 9  2  2]\n",
            " [ 2  3  3]\n",
            " [ 2 17  2]]\n",
            "[[ 8  1  1]\n",
            " [ 1  2  2]\n",
            " [ 1 16  1]]\n"
          ]
        }
      ]
    },
    {
      "cell_type": "code",
      "source": [
        "C_matriz @ A_matriz"
      ],
      "metadata": {
        "colab": {
          "base_uri": "https://localhost:8080/"
        },
        "id": "K8F5-rB6RYu8",
        "outputId": "599e3730-f058-41aa-e343-48f8d36d04f4"
      },
      "execution_count": 63,
      "outputs": [
        {
          "output_type": "execute_result",
          "data": {
            "text/plain": [
              "array([[76, 45, 15],\n",
              "       [22, 56, 11],\n",
              "       [35, 68, 38]])"
            ]
          },
          "metadata": {},
          "execution_count": 63
        }
      ]
    },
    {
      "cell_type": "code",
      "source": [
        "A_matriz @C_matriz"
      ],
      "metadata": {
        "colab": {
          "base_uri": "https://localhost:8080/"
        },
        "id": "I0sDrc1vRePh",
        "outputId": "fc367df1-1cc6-4de4-bff5-054a5f26c925"
      },
      "execution_count": 64,
      "outputs": [
        {
          "output_type": "execute_result",
          "data": {
            "text/plain": [
              "array([[76, 36, 21],\n",
              "       [17, 42, 12],\n",
              "       [43, 67, 52]])"
            ]
          },
          "metadata": {},
          "execution_count": 64
        }
      ]
    }
  ]
}