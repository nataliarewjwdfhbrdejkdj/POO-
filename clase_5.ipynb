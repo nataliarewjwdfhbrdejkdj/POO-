{
  "nbformat": 4,
  "nbformat_minor": 0,
  "metadata": {
    "colab": {
      "provenance": []
    },
    "kernelspec": {
      "name": "python3",
      "display_name": "Python 3"
    },
    "language_info": {
      "name": "python"
    }
  },
  "cells": [
    {
      "cell_type": "markdown",
      "source": [
        "## clases y herencias"
      ],
      "metadata": {
        "id": "n-Ahy2fqK6C2"
      }
    },
    {
      "cell_type": "code",
      "source": [
        "class alvaro():\n",
        "  pass"
      ],
      "metadata": {
        "id": "GS3DFMrRTH2e"
      },
      "execution_count": null,
      "outputs": []
    },
    {
      "cell_type": "code",
      "source": [
        "alvaro()"
      ],
      "metadata": {
        "colab": {
          "base_uri": "https://localhost:8080/"
        },
        "id": "QeeUNb1sTN95",
        "outputId": "104bab79-b58c-422f-923d-d0e63974e2e0"
      },
      "execution_count": null,
      "outputs": [
        {
          "output_type": "execute_result",
          "data": {
            "text/plain": [
              "<__main__.alvaro at 0x7c1ab9161810>"
            ]
          },
          "metadata": {},
          "execution_count": 53
        }
      ]
    },
    {
      "cell_type": "code",
      "source": [],
      "metadata": {
        "id": "sOTXEjN3UNvd"
      },
      "execution_count": null,
      "outputs": []
    },
    {
      "cell_type": "code",
      "source": [
        "# vamos a crear una clase que se llamara Álvaro\n",
        "class alvaro:\n",
        "  def __init__(self, edad, bff,ceci):\n",
        "      self.edad = edad\n",
        "      self.bff = bff\n",
        "      self.ceci = ceci\n",
        "\n",
        "  def saludar(self):\n",
        "    print(f\"a los {self.edad} conocí a mi amigo {self.bff}\")\n",
        "\n",
        "  def chisme(self):\n",
        "    print(f\"estoy en el chisme con {self.bff} y con {self.ceci}\")"
      ],
      "metadata": {
        "id": "NFHchfKfLAcO"
      },
      "execution_count": null,
      "outputs": []
    },
    {
      "cell_type": "code",
      "source": [
        "avo = alvaro(19,\"jaume\", \"ceci\")"
      ],
      "metadata": {
        "id": "QsqUW1blU9Hv"
      },
      "execution_count": null,
      "outputs": []
    },
    {
      "cell_type": "code",
      "source": [
        "avo.saludar()"
      ],
      "metadata": {
        "colab": {
          "base_uri": "https://localhost:8080/"
        },
        "id": "X69DAQQqV0ed",
        "outputId": "48659b2a-4a3d-4747-903a-6108dd8fc0ab"
      },
      "execution_count": null,
      "outputs": [
        {
          "output_type": "stream",
          "name": "stdout",
          "text": [
            "a los 19 conocí a mi amigo jaume\n"
          ]
        }
      ]
    },
    {
      "cell_type": "code",
      "source": [
        "#¿que esta hcaiendo alvaro?\n",
        "avo.chisme()"
      ],
      "metadata": {
        "colab": {
          "base_uri": "https://localhost:8080/"
        },
        "id": "Nl4CqNydV30f",
        "outputId": "b784bfce-8985-4808-b139-35c330c14b05"
      },
      "execution_count": null,
      "outputs": [
        {
          "output_type": "stream",
          "name": "stdout",
          "text": [
            "estoy en el chisme con jaume y con ceci\n"
          ]
        }
      ]
    }
  ]
}