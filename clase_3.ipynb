{
  "nbformat": 4,
  "nbformat_minor": 0,
  "metadata": {
    "colab": {
      "provenance": []
    },
    "kernelspec": {
      "name": "python3",
      "display_name": "Python 3"
    },
    "language_info": {
      "name": "python"
    }
  },
  "cells": [
    {
      "cell_type": "markdown",
      "source": [
        "# Listas e Ingresos a listas\n",
        "\n",
        "range(a,b)\n",
        "$a\\geq o $\n",
        "$a\\le b $"
      ],
      "metadata": {
        "id": "NiZxIGmesMUK"
      }
    },
    {
      "cell_type": "code",
      "source": [
        "#\n",
        "\n",
        "Indices= [i for i in range(0,21)]\n",
        "Indices"
      ],
      "metadata": {
        "colab": {
          "base_uri": "https://localhost:8080/"
        },
        "id": "Z6CUpez8x3X8",
        "outputId": "b61fb82c-b3c9-4148-cfe1-915296b4c5ac"
      },
      "execution_count": 10,
      "outputs": [
        {
          "output_type": "execute_result",
          "data": {
            "text/plain": [
              "[0, 1, 2, 3, 4, 5, 6, 7, 8, 9, 10, 11, 12, 13, 14, 15, 16, 17, 18, 19, 20]"
            ]
          },
          "metadata": {},
          "execution_count": 10
        }
      ]
    },
    {
      "cell_type": "code",
      "source": [
        "for i in range(10):\n",
        "  print(i)"
      ],
      "metadata": {
        "colab": {
          "base_uri": "https://localhost:8080/"
        },
        "id": "mxqchKxyypak",
        "outputId": "1d69092c-c80e-4775-a4cf-e16af5e48004"
      },
      "execution_count": 4,
      "outputs": [
        {
          "output_type": "stream",
          "name": "stdout",
          "text": [
            "0\n",
            "1\n",
            "2\n",
            "3\n",
            "4\n",
            "5\n",
            "6\n",
            "7\n",
            "8\n",
            "9\n"
          ]
        }
      ]
    },
    {
      "cell_type": "markdown",
      "source": [
        "si $A$ un conjunto, sea $a\\in A$"
      ],
      "metadata": {
        "id": "4xYzrfQr_df1"
      }
    },
    {
      "cell_type": "code",
      "source": [
        "Indices= [i for i in range(0,21)]\n",
        "print(f\"etiquetas: {Indices}\")\n",
        "\n",
        "Multiplos_3 = [ i for i in range(0,21) if i%3==0]\n",
        "print(f\"Multiplos_3: {Multiplos_3}\")\n"
      ],
      "metadata": {
        "colab": {
          "base_uri": "https://localhost:8080/"
        },
        "id": "gSXoNB6LBrsl",
        "outputId": "69c11202-e3b0-4e88-a4ab-0ea382f968f0"
      },
      "execution_count": 13,
      "outputs": [
        {
          "output_type": "stream",
          "name": "stdout",
          "text": [
            "etiquetas: [0, 1, 2, 3, 4, 5, 6, 7, 8, 9, 10, 11, 12, 13, 14, 15, 16, 17, 18, 19, 20]\n",
            "Multiplos_3: [0, 3, 6, 9, 12, 15, 18]\n"
          ]
        }
      ]
    },
    {
      "cell_type": "markdown",
      "source": [
        "#Ingresos"
      ],
      "metadata": {
        "id": "wLXbcaLsE08P"
      }
    },
    {
      "cell_type": "code",
      "source": [
        "ceci = []\n",
        "\n",
        "ceci.append(18)"
      ],
      "metadata": {
        "id": "UURFKarXE3Lt"
      },
      "execution_count": 15,
      "outputs": []
    },
    {
      "cell_type": "code",
      "source": [
        "ceci.insert(1, \"violin\")"
      ],
      "metadata": {
        "id": "Y3Eh520oGgb7"
      },
      "execution_count": 17,
      "outputs": []
    },
    {
      "cell_type": "code",
      "source": [
        "ceci"
      ],
      "metadata": {
        "colab": {
          "base_uri": "https://localhost:8080/"
        },
        "id": "rVyzrH5ZHVhH",
        "outputId": "1c344743-77c7-48e9-fe25-bb49c07f31f8"
      },
      "execution_count": 18,
      "outputs": [
        {
          "output_type": "execute_result",
          "data": {
            "text/plain": [
              "[18, 'violin']"
            ]
          },
          "metadata": {},
          "execution_count": 18
        }
      ]
    },
    {
      "cell_type": "code",
      "source": [
        "ceci.append( 1.62)"
      ],
      "metadata": {
        "id": "WD2FgVVzHXR1"
      },
      "execution_count": 26,
      "outputs": []
    },
    {
      "cell_type": "code",
      "source": [
        "ceci"
      ],
      "metadata": {
        "colab": {
          "base_uri": "https://localhost:8080/"
        },
        "id": "DBg1FkdyHabp",
        "outputId": "f97da361-6769-4a15-bf66-fedb20ffde75"
      },
      "execution_count": 21,
      "outputs": [
        {
          "output_type": "execute_result",
          "data": {
            "text/plain": [
              "[18, 'violin', 1.62]"
            ]
          },
          "metadata": {},
          "execution_count": 21
        }
      ]
    },
    {
      "cell_type": "code",
      "source": [
        "ceci.insert(4, \"perro\")"
      ],
      "metadata": {
        "id": "ULuJS9OWHd-K"
      },
      "execution_count": 27,
      "outputs": []
    },
    {
      "cell_type": "code",
      "source": [
        "ceci"
      ],
      "metadata": {
        "colab": {
          "base_uri": "https://localhost:8080/"
        },
        "id": "55o-RaZgHsyu",
        "outputId": "9387d67c-e055-44fb-d3be-5261703848f8"
      },
      "execution_count": 23,
      "outputs": [
        {
          "output_type": "execute_result",
          "data": {
            "text/plain": [
              "[18, 'violin', 1.62, 'perro']"
            ]
          },
          "metadata": {},
          "execution_count": 23
        }
      ]
    },
    {
      "cell_type": "code",
      "source": [
        "ceci[0::3] #para hacer un espacio usas ::"
      ],
      "metadata": {
        "colab": {
          "base_uri": "https://localhost:8080/"
        },
        "id": "CepXZde7H0q5",
        "outputId": "87ed9a94-ea90-4a41-cce3-b51edcc6cdec"
      },
      "execution_count": 34,
      "outputs": [
        {
          "output_type": "execute_result",
          "data": {
            "text/plain": [
              "[18, 'perro']"
            ]
          },
          "metadata": {},
          "execution_count": 34
        }
      ]
    },
    {
      "cell_type": "code",
      "source": [
        "Indices[0::3]"
      ],
      "metadata": {
        "colab": {
          "base_uri": "https://localhost:8080/"
        },
        "id": "o-xFb0mEM-aS",
        "outputId": "346e8c8d-f844-4757-e943-a531c7dbec46"
      },
      "execution_count": 35,
      "outputs": [
        {
          "output_type": "execute_result",
          "data": {
            "text/plain": [
              "[0, 3, 6, 9, 12, 15, 18]"
            ]
          },
          "metadata": {},
          "execution_count": 35
        }
      ]
    }
  ]
}