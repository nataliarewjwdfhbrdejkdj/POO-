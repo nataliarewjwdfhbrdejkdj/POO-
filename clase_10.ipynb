{
  "nbformat": 4,
  "nbformat_minor": 0,
  "metadata": {
    "colab": {
      "provenance": []
    },
    "kernelspec": {
      "name": "python3",
      "display_name": "Python 3"
    },
    "language_info": {
      "name": "python"
    }
  },
  "cells": [
    {
      "cell_type": "markdown",
      "source": [
        "# Manejo de exepciones\n",
        "\n",
        "las funciones a usar son:\n",
        "\n",
        "```\n",
        "# try\n",
        "bloque de condicion\n",
        "except:\n",
        "bloque de excepciones\n",
        "\n",
        "```\n",
        "\n"
      ],
      "metadata": {
        "id": "IAz51JNYB7_S"
      }
    },
    {
      "cell_type": "markdown",
      "source": [
        "vamos a usar una funcion que se llame assert."
      ],
      "metadata": {
        "id": "j_P2F8HRCeNr"
      }
    },
    {
      "cell_type": "code",
      "source": [
        "def division(a,b):\n",
        "  return a/b"
      ],
      "metadata": {
        "id": "K5Iu9T7LCivQ"
      },
      "execution_count": null,
      "outputs": []
    },
    {
      "cell_type": "code",
      "source": [
        "division(1,0)"
      ],
      "metadata": {
        "colab": {
          "base_uri": "https://localhost:8080/",
          "height": 216
        },
        "id": "Z5WtNjLGDEUy",
        "outputId": "7713fd22-5a29-4d15-f12b-18a2e22557a0"
      },
      "execution_count": null,
      "outputs": [
        {
          "output_type": "error",
          "ename": "ZeroDivisionError",
          "evalue": "division by zero",
          "traceback": [
            "\u001b[0;31m---------------------------------------------------------------------------\u001b[0m",
            "\u001b[0;31mZeroDivisionError\u001b[0m                         Traceback (most recent call last)",
            "\u001b[0;32m<ipython-input-2-b1a4f064b07e>\u001b[0m in \u001b[0;36m<cell line: 0>\u001b[0;34m()\u001b[0m\n\u001b[0;32m----> 1\u001b[0;31m \u001b[0mdivision\u001b[0m\u001b[0;34m(\u001b[0m\u001b[0;36m1\u001b[0m\u001b[0;34m,\u001b[0m\u001b[0;36m0\u001b[0m\u001b[0;34m)\u001b[0m\u001b[0;34m\u001b[0m\u001b[0;34m\u001b[0m\u001b[0m\n\u001b[0m",
            "\u001b[0;32m<ipython-input-1-5117be529140>\u001b[0m in \u001b[0;36mdivision\u001b[0;34m(a, b)\u001b[0m\n\u001b[1;32m      1\u001b[0m \u001b[0;32mdef\u001b[0m \u001b[0mdivision\u001b[0m\u001b[0;34m(\u001b[0m\u001b[0ma\u001b[0m\u001b[0;34m,\u001b[0m\u001b[0mb\u001b[0m\u001b[0;34m)\u001b[0m\u001b[0;34m:\u001b[0m\u001b[0;34m\u001b[0m\u001b[0;34m\u001b[0m\u001b[0m\n\u001b[0;32m----> 2\u001b[0;31m   \u001b[0;32mreturn\u001b[0m \u001b[0ma\u001b[0m\u001b[0;34m/\u001b[0m\u001b[0mb\u001b[0m\u001b[0;34m\u001b[0m\u001b[0;34m\u001b[0m\u001b[0m\n\u001b[0m",
            "\u001b[0;31mZeroDivisionError\u001b[0m: division by zero"
          ]
        }
      ]
    },
    {
      "cell_type": "code",
      "source": [
        "#Ejemplo 1\n",
        "\n",
        "a = 5 #Solo explica los errores y no te pide el error de python\n",
        "b = 0\n",
        "try:\n",
        "  c=a/b\n",
        "except ZeroDivisionError:\n",
        "  print(\"Alvaro, no se divide entre 0\")"
      ],
      "metadata": {
        "colab": {
          "base_uri": "https://localhost:8080/"
        },
        "id": "5u27ninaC6n8",
        "outputId": "db6074e5-16c8-442c-ea2d-bbad822358ad"
      },
      "execution_count": null,
      "outputs": [
        {
          "output_type": "stream",
          "name": "stdout",
          "text": [
            "Alvaro, no se divide entre 0\n"
          ]
        }
      ]
    },
    {
      "cell_type": "code",
      "source": [
        "2 + \"Ceci\""
      ],
      "metadata": {
        "colab": {
          "base_uri": "https://localhost:8080/",
          "height": 144
        },
        "id": "AG2Ps0AiEFNa",
        "outputId": "954c8651-aae7-4f8f-fb10-6bc3906fb133"
      },
      "execution_count": null,
      "outputs": [
        {
          "output_type": "error",
          "ename": "TypeError",
          "evalue": "unsupported operand type(s) for +: 'int' and 'str'",
          "traceback": [
            "\u001b[0;31m---------------------------------------------------------------------------\u001b[0m",
            "\u001b[0;31mTypeError\u001b[0m                                 Traceback (most recent call last)",
            "\u001b[0;32m<ipython-input-6-dbfb5d65234c>\u001b[0m in \u001b[0;36m<cell line: 0>\u001b[0;34m()\u001b[0m\n\u001b[0;32m----> 1\u001b[0;31m \u001b[0;36m2\u001b[0m \u001b[0;34m+\u001b[0m \u001b[0;34m\"Ceci\"\u001b[0m\u001b[0;34m\u001b[0m\u001b[0;34m\u001b[0m\u001b[0m\n\u001b[0m",
            "\u001b[0;31mTypeError\u001b[0m: unsupported operand type(s) for +: 'int' and 'str'"
          ]
        }
      ]
    },
    {
      "cell_type": "code",
      "source": [
        "#Ejemplo 2\n",
        "\n",
        "try :\n",
        "  d = 2 + \"Ceci\"\n",
        "except TypeError:\n",
        "  print(\"¡Cuidado! La suma debe ser sobre los mismos objetos\")"
      ],
      "metadata": {
        "colab": {
          "base_uri": "https://localhost:8080/"
        },
        "id": "Ax51apy2DzyU",
        "outputId": "982a8af3-f1eb-4a7a-eca6-90eea3eb3199"
      },
      "execution_count": null,
      "outputs": [
        {
          "output_type": "stream",
          "name": "stdout",
          "text": [
            "¡Cuidado! La suma debe ser sobre los mismos objetos\n"
          ]
        }
      ]
    },
    {
      "cell_type": "code",
      "source": [
        "#Vamos a redifinir nuestra defuncion de division\n",
        "def division(a,b):\n",
        "  try:\n",
        "    c = a/b\n",
        "    print(\"Resultado de la division\", c)\n",
        "  except ZeroDivisionError:\n",
        "      print(\"Jaume, no dividas entre cero\")\n",
        "  except TypeError:\n",
        "    print(\"No dividan un numero entre un string\")"
      ],
      "metadata": {
        "id": "3-fVB0gkFgPz"
      },
      "execution_count": null,
      "outputs": []
    },
    {
      "cell_type": "code",
      "source": [
        "division(5,0)"
      ],
      "metadata": {
        "colab": {
          "base_uri": "https://localhost:8080/"
        },
        "id": "5z2sw6K2GitU",
        "outputId": "75ed3463-c787-4d48-9f5c-6f104f1e5f3f"
      },
      "execution_count": null,
      "outputs": [
        {
          "output_type": "stream",
          "name": "stdout",
          "text": [
            "Jaume, no dividas entre cero\n"
          ]
        }
      ]
    },
    {
      "cell_type": "code",
      "source": [
        "division(2,\"Ceci\")"
      ],
      "metadata": {
        "colab": {
          "base_uri": "https://localhost:8080/"
        },
        "id": "N23PYaNIHFzG",
        "outputId": "43f2f665-696a-44f7-fde7-42cf55973383"
      },
      "execution_count": null,
      "outputs": [
        {
          "output_type": "stream",
          "name": "stdout",
          "text": [
            "No dividan un numero entre un string\n"
          ]
        }
      ]
    },
    {
      "cell_type": "code",
      "source": [
        "division(2,3)"
      ],
      "metadata": {
        "colab": {
          "base_uri": "https://localhost:8080/"
        },
        "id": "nFD4257uHXpR",
        "outputId": "e5a6dc24-2484-412b-d74f-077eb48d6a8b"
      },
      "execution_count": null,
      "outputs": [
        {
          "output_type": "stream",
          "name": "stdout",
          "text": [
            "Resultado de la division 0.6666666666666666\n"
          ]
        }
      ]
    },
    {
      "cell_type": "markdown",
      "source": [
        "## La funcion `assert`"
      ],
      "metadata": {
        "id": "zMfMQJp4HhwH"
      }
    },
    {
      "cell_type": "code",
      "source": [
        "assert(1==2)"
      ],
      "metadata": {
        "colab": {
          "base_uri": "https://localhost:8080/",
          "height": 144
        },
        "id": "n2AjbeuKIIV8",
        "outputId": "dd9a52ed-065a-4cd5-d5a5-d545fac4bd84"
      },
      "execution_count": null,
      "outputs": [
        {
          "output_type": "error",
          "ename": "AssertionError",
          "evalue": "",
          "traceback": [
            "\u001b[0;31m---------------------------------------------------------------------------\u001b[0m",
            "\u001b[0;31mAssertionError\u001b[0m                            Traceback (most recent call last)",
            "\u001b[0;32m<ipython-input-13-91d16dafa3fa>\u001b[0m in \u001b[0;36m<cell line: 0>\u001b[0;34m()\u001b[0m\n\u001b[0;32m----> 1\u001b[0;31m \u001b[0;32massert\u001b[0m\u001b[0;34m(\u001b[0m\u001b[0;36m1\u001b[0m\u001b[0;34m==\u001b[0m\u001b[0;36m2\u001b[0m\u001b[0;34m)\u001b[0m\u001b[0;34m\u001b[0m\u001b[0;34m\u001b[0m\u001b[0m\n\u001b[0m",
            "\u001b[0;31mAssertionError\u001b[0m: "
          ]
        }
      ]
    },
    {
      "cell_type": "code",
      "source": [
        "def calcular_media(L):\n",
        "  z = sum(L)/len(L)\n",
        "  return z"
      ],
      "metadata": {
        "id": "mP54kGdKJQmV"
      },
      "execution_count": null,
      "outputs": []
    },
    {
      "cell_type": "code",
      "source": [
        "calcular_media({17, 19, 25.8, -2})"
      ],
      "metadata": {
        "colab": {
          "base_uri": "https://localhost:8080/"
        },
        "id": "13wMcLKeJ2t4",
        "outputId": "9395b9c1-837c-4783-a2c7-226dd8f68982"
      },
      "execution_count": null,
      "outputs": [
        {
          "output_type": "execute_result",
          "data": {
            "text/plain": [
              "14.95"
            ]
          },
          "metadata": {},
          "execution_count": 15
        }
      ]
    },
    {
      "cell_type": "code",
      "source": [
        "assert(calcular_media([17, 19, 25.8, -2])==14.95)"
      ],
      "metadata": {
        "id": "P4CgtTrVJ_px"
      },
      "execution_count": null,
      "outputs": []
    }
  ]
}