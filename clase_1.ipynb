{
  "nbformat": 4,
  "nbformat_minor": 0,
  "metadata": {
    "colab": {
      "provenance": []
    },
    "kernelspec": {
      "name": "python3",
      "display_name": "Python 3"
    },
    "language_info": {
      "name": "python"
    }
  },
  "cells": [
    {
      "cell_type": "code",
      "execution_count": null,
      "metadata": {
        "id": "1UyqUg8JpW11"
      },
      "outputs": [],
      "source": []
    },
    {
      "cell_type": "markdown",
      "source": [
        "#introduccion a python\n",
        "Python es un programa es un lenguaje orientado a objetos y eso depende de el software C\n",
        "##¿Qué veremos hoy?\n",
        "1. objetos\n",
        "2. que es un objeto\n",
        "3. variables\n",
        "4. ejemplos"
      ],
      "metadata": {
        "id": "rQgadv-FqS1R"
      }
    },
    {
      "cell_type": "markdown",
      "source": [
        "Nota: **en este procesador de texto se puede escribir en html y en latex. Por ejemplo: vamos a escribir a la ecuación mas hermosa de todas: $$ e^{i\\pi}+1=0$$ **\n",
        "\n",
        "**otro ejemplo:**\n",
        "\\begin{bmatrix}\n",
        "a_{11} & a_{12} & a_{13} \\\\\n",
        "a_{21} & a_{22} & a_{23} \\\\\n",
        "a_{31} & a_{32} & a_{33}\n",
        "\\end{bmatrix}\n"
      ],
      "metadata": {
        "id": "JDOxDLhDt6Ds"
      }
    },
    {
      "cell_type": "markdown",
      "source": [
        "### algunos objetos en python\n",
        "\n",
        "1. Int y float (enteros y flotantes)\n",
        "2. str (\"string\")\n",
        "3. Conjuntos y listas\n",
        "\n",
        "\n",
        "---\n",
        "La función `print` y la función `type`\n",
        "\n",
        "\n",
        "\n"
      ],
      "metadata": {
        "id": "wKEeHcTh6h9P"
      }
    },
    {
      "cell_type": "code",
      "source": [
        "\"Hola mundo\"\n"
      ],
      "metadata": {
        "colab": {
          "base_uri": "https://localhost:8080/",
          "height": 35
        },
        "id": "_YWXSHKkuvTm",
        "outputId": "0a5a857f-0046-43e9-b032-c7f8617c4294"
      },
      "execution_count": 1,
      "outputs": [
        {
          "output_type": "execute_result",
          "data": {
            "text/plain": [
              "'Hola mundo'"
            ],
            "application/vnd.google.colaboratory.intrinsic+json": {
              "type": "string"
            }
          },
          "metadata": {},
          "execution_count": 1
        }
      ]
    },
    {
      "cell_type": "code",
      "source": [
        "print (\"Cesar\")\n",
        "print (\"Hola a todos\")"
      ],
      "metadata": {
        "colab": {
          "base_uri": "https://localhost:8080/"
        },
        "id": "YnQD-oUL_Dzu",
        "outputId": "3110427a-a45d-436a-da5d-3474e4ff8406"
      },
      "execution_count": 2,
      "outputs": [
        {
          "output_type": "stream",
          "name": "stdout",
          "text": [
            "Cesar\n",
            "Hola a todos\n"
          ]
        }
      ]
    },
    {
      "cell_type": "markdown",
      "source": [
        "### operaciones basicas en enteros o float\n",
        "\n",
        "\n",
        "*   $+, -$  suma y resta\n",
        "*   $ *, /, **$ multiplicacion, divir y potenciacion\n",
        "* $\\%$ operacion modular\n",
        "* $//$ division al piso\n",
        "\n",
        "---\n",
        "**Creacion de variables**\n",
        "\n",
        "nombre = objeto\n",
        "\n"
      ],
      "metadata": {
        "id": "evxbsT8j_tPT"
      }
    },
    {
      "cell_type": "code",
      "source": [
        "# vamos a crear dos variables\n",
        "x = 7\n",
        "y = 3"
      ],
      "metadata": {
        "id": "RMAOZwfeFLP8"
      },
      "execution_count": 3,
      "outputs": []
    },
    {
      "cell_type": "code",
      "source": [
        "# operaciones\n",
        "\n",
        "print(f\" la suma entre {x} y {y} es {x+y}\")\n",
        "print(f\" la potenciacion entre {x} y {y} es {x**y}\")\n",
        "print(f\" el residuo entre {x} y {y} es {x%y}\")\n",
        "print(f\" la division al piso entre {x} y {y} es {x//y}\")\n",
        "print(f\" la divison entre {x} y {y} es {x/y}\")\n",
        "\n"
      ],
      "metadata": {
        "colab": {
          "base_uri": "https://localhost:8080/"
        },
        "id": "P8z7R6I7Gzcm",
        "outputId": "de96d05d-9fd5-4ce6-c09e-6155576fb65e"
      },
      "execution_count": 7,
      "outputs": [
        {
          "output_type": "stream",
          "name": "stdout",
          "text": [
            " la suma entre 7 y 3 es 10\n",
            " la potenciacion entre 7 y 3 es 343\n",
            " el residuo entre 7 y 3 es 1\n",
            " la division al piso entre 7 y 3 es 2\n",
            " la divison entre 7 y 3 es 2.3333333333333335\n"
          ]
        }
      ]
    },
    {
      "cell_type": "code",
      "source": [
        "# la funcion type nos dice el tipo de objeto que estamos usando\n",
        "type(x/y), type(\"cesar\")"
      ],
      "metadata": {
        "colab": {
          "base_uri": "https://localhost:8080/"
        },
        "id": "vU6dPbFVIvBY",
        "outputId": "218309e0-2a7b-445d-af2c-78efeb497a61"
      },
      "execution_count": 9,
      "outputs": [
        {
          "output_type": "execute_result",
          "data": {
            "text/plain": [
              "(float, str)"
            ]
          },
          "metadata": {},
          "execution_count": 9
        }
      ]
    }
  ]
}