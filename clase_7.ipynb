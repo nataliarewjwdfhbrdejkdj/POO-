{
  "nbformat": 4,
  "nbformat_minor": 0,
  "metadata": {
    "colab": {
      "provenance": []
    },
    "kernelspec": {
      "name": "python3",
      "display_name": "Python 3"
    },
    "language_info": {
      "name": "python"
    }
  },
  "cells": [
    {
      "cell_type": "markdown",
      "source": [
        "## Algunas funciones en Python\n",
        "\n",
        "1. Input\n",
        "2. Elemento de la lista\n",
        "3. map\n",
        "\n",
        "## Ejemplos de la función input"
      ],
      "metadata": {
        "id": "LRXBA_valomd"
      }
    },
    {
      "cell_type": "code",
      "source": [
        "Ceci = input(\"De quien es cumpleaños? \")"
      ],
      "metadata": {
        "colab": {
          "base_uri": "https://localhost:8080/"
        },
        "id": "YARHN-MznNKp",
        "outputId": "19dc333f-2d86-41b8-db02-9b8ffd107497"
      },
      "execution_count": null,
      "outputs": [
        {
          "name": "stdout",
          "output_type": "stream",
          "text": [
            "De quien es cumpleaños? Ceci\n"
          ]
        }
      ]
    },
    {
      "cell_type": "code",
      "source": [
        "edad = int(input(\"Cuantos años cumples? \"))"
      ],
      "metadata": {
        "colab": {
          "base_uri": "https://localhost:8080/"
        },
        "id": "W6hWU1mVnapH",
        "outputId": "508b969e-0562-4ae4-b020-b1e0b21a6c19"
      },
      "execution_count": null,
      "outputs": [
        {
          "name": "stdout",
          "output_type": "stream",
          "text": [
            "Cuantos años cumples? 19\n"
          ]
        }
      ]
    },
    {
      "cell_type": "code",
      "source": [
        "print(f\"hoy es cumple de {Ceci} y cumple {edad}\")"
      ],
      "metadata": {
        "colab": {
          "base_uri": "https://localhost:8080/"
        },
        "id": "qy9srKZAoNNW",
        "outputId": "3f719efa-4b60-4a4e-de99-932bd4e9d9bd"
      },
      "execution_count": null,
      "outputs": [
        {
          "output_type": "stream",
          "name": "stdout",
          "text": [
            "hoy es cumple de Ceci y cumple 19\n"
          ]
        }
      ]
    },
    {
      "cell_type": "markdown",
      "source": [
        "## La funcion lambda\n",
        "\n",
        "Es una funcion anonima (no tiene nombre) y sirve para crear funciones ad hoc (dentro de un solo codigo)"
      ],
      "metadata": {
        "id": "1k_Jvcu-pB37"
      }
    },
    {
      "cell_type": "code",
      "source": [
        "def cuadrado(x):\n",
        "  z = x**2\n",
        "  return z"
      ],
      "metadata": {
        "id": "xN3rxAjEpNpD"
      },
      "execution_count": null,
      "outputs": []
    },
    {
      "cell_type": "code",
      "source": [
        "cuadrado(25)"
      ],
      "metadata": {
        "colab": {
          "base_uri": "https://localhost:8080/"
        },
        "id": "Osl6yt-dpWyb",
        "outputId": "e92b8def-1f96-4a7c-b9bf-09948e273e46"
      },
      "execution_count": null,
      "outputs": [
        {
          "output_type": "execute_result",
          "data": {
            "text/plain": [
              "625"
            ]
          },
          "metadata": {},
          "execution_count": 8
        }
      ]
    },
    {
      "cell_type": "code",
      "source": [
        "cuad = lambda x: x**2\n",
        "cuad(2)"
      ],
      "metadata": {
        "colab": {
          "base_uri": "https://localhost:8080/"
        },
        "id": "985uNRLEphr4",
        "outputId": "e2e3f181-ba65-428a-c4a2-136918b8151c"
      },
      "execution_count": null,
      "outputs": [
        {
          "output_type": "execute_result",
          "data": {
            "text/plain": [
              "4"
            ]
          },
          "metadata": {},
          "execution_count": 9
        }
      ]
    },
    {
      "cell_type": "code",
      "source": [
        "operacion = lambda x,y: x**2 + x*y +2\n",
        "operacion(2,3)"
      ],
      "metadata": {
        "colab": {
          "base_uri": "https://localhost:8080/"
        },
        "id": "CiTtSVicqkt2",
        "outputId": "53a8b91f-d530-4b55-958f-5c178860637f"
      },
      "execution_count": null,
      "outputs": [
        {
          "output_type": "execute_result",
          "data": {
            "text/plain": [
              "12"
            ]
          },
          "metadata": {},
          "execution_count": 11
        }
      ]
    },
    {
      "cell_type": "code",
      "source": [
        "import math\n",
        "from math import pi, e"
      ],
      "metadata": {
        "id": "9Fp0lM1urI5e"
      },
      "execution_count": null,
      "outputs": []
    },
    {
      "cell_type": "code",
      "source": [
        "pi, e"
      ],
      "metadata": {
        "colab": {
          "base_uri": "https://localhost:8080/"
        },
        "id": "kgdYiMLPrSRa",
        "outputId": "b54fc630-46bd-42b5-dd0a-cda7f79937f7"
      },
      "execution_count": null,
      "outputs": [
        {
          "output_type": "execute_result",
          "data": {
            "text/plain": [
              "(3.141592653589793, 2.718281828459045)"
            ]
          },
          "metadata": {},
          "execution_count": 15
        }
      ]
    },
    {
      "cell_type": "code",
      "source": [
        "area_circulo = lambda r: pi*r**2\n",
        "area_circulo(10)"
      ],
      "metadata": {
        "colab": {
          "base_uri": "https://localhost:8080/"
        },
        "id": "7pyzR2lnrbYw",
        "outputId": "c2494a33-6fa3-46cc-ecb6-85ff93a1b4a2"
      },
      "execution_count": null,
      "outputs": [
        {
          "output_type": "execute_result",
          "data": {
            "text/plain": [
              "314.1592653589793"
            ]
          },
          "metadata": {},
          "execution_count": 16
        }
      ]
    },
    {
      "cell_type": "markdown",
      "source": [
        "## La funcion map\n",
        "\n",
        "significa mapear"
      ],
      "metadata": {
        "id": "yKk9cIJ9rtpR"
      }
    },
    {
      "cell_type": "code",
      "source": [
        "residuo = list(map(lambda x : x%2 , [i for i in range(1,101)]))"
      ],
      "metadata": {
        "id": "lKjltihasV50"
      },
      "execution_count": null,
      "outputs": []
    },
    {
      "cell_type": "code",
      "source": [
        "def residuo_(x):\n",
        "  for x in range(1,101):\n",
        "    return x%2"
      ],
      "metadata": {
        "id": "C_YSbhQnu7RW"
      },
      "execution_count": null,
      "outputs": []
    },
    {
      "cell_type": "code",
      "source": [
        "residuo_(3)"
      ],
      "metadata": {
        "colab": {
          "base_uri": "https://localhost:8080/"
        },
        "id": "pxIWLWMTvI4I",
        "outputId": "4fcb81c6-12a3-4949-bd87-194a811ade5e"
      },
      "execution_count": null,
      "outputs": [
        {
          "output_type": "execute_result",
          "data": {
            "text/plain": [
              "1"
            ]
          },
          "metadata": {},
          "execution_count": 20
        }
      ]
    },
    {
      "cell_type": "code",
      "source": [
        "exponenciales = set(map(lambda x : e**x , [i for i in range(1,10)]))\n",
        "exponenciales"
      ],
      "metadata": {
        "colab": {
          "base_uri": "https://localhost:8080/"
        },
        "id": "NgcfUvC5vb3g",
        "outputId": "19661493-1f3c-475c-80ce-ac0827f240d6"
      },
      "execution_count": null,
      "outputs": [
        {
          "output_type": "execute_result",
          "data": {
            "text/plain": [
              "{2.718281828459045,\n",
              " 7.3890560989306495,\n",
              " 20.085536923187664,\n",
              " 54.59815003314423,\n",
              " 148.41315910257657,\n",
              " 403.428793492735,\n",
              " 1096.6331584284583,\n",
              " 2980.957987041727,\n",
              " 8103.08392757538}"
            ]
          },
          "metadata": {},
          "execution_count": 22
        }
      ]
    },
    {
      "cell_type": "markdown",
      "source": [
        "### Ejemplo del uso de la probabilidad clasico\n",
        "\n",
        "Tenemos el siguiente experimento. Lanzamos dos dados honestos\n",
        "\n",
        "$$\\Omega = \\{1,2,3,4,5,6\\}\\times \\{1,2,3,5,5,6\\}$$"
      ],
      "metadata": {
        "id": "2yiBE2ce_0ii"
      }
    },
    {
      "cell_type": "code",
      "source": [
        "import itertools\n",
        "from itertools import product\n"
      ],
      "metadata": {
        "id": "yJM_grbTBW_6"
      },
      "execution_count": 2,
      "outputs": []
    },
    {
      "cell_type": "code",
      "source": [
        "Omega = set (product({1,2,3,4,5,6}, repeat=2))\n",
        "Omega"
      ],
      "metadata": {
        "colab": {
          "base_uri": "https://localhost:8080/"
        },
        "id": "FYv4T4d8Buv-",
        "outputId": "53f70847-df3e-48c8-b171-a147735ced79"
      },
      "execution_count": 4,
      "outputs": [
        {
          "output_type": "execute_result",
          "data": {
            "text/plain": [
              "{(1, 1),\n",
              " (1, 2),\n",
              " (1, 3),\n",
              " (1, 4),\n",
              " (1, 5),\n",
              " (1, 6),\n",
              " (2, 1),\n",
              " (2, 2),\n",
              " (2, 3),\n",
              " (2, 4),\n",
              " (2, 5),\n",
              " (2, 6),\n",
              " (3, 1),\n",
              " (3, 2),\n",
              " (3, 3),\n",
              " (3, 4),\n",
              " (3, 5),\n",
              " (3, 6),\n",
              " (4, 1),\n",
              " (4, 2),\n",
              " (4, 3),\n",
              " (4, 4),\n",
              " (4, 5),\n",
              " (4, 6),\n",
              " (5, 1),\n",
              " (5, 2),\n",
              " (5, 3),\n",
              " (5, 4),\n",
              " (5, 5),\n",
              " (5, 6),\n",
              " (6, 1),\n",
              " (6, 2),\n",
              " (6, 3),\n",
              " (6, 4),\n",
              " (6, 5),\n",
              " (6, 6)}"
            ]
          },
          "metadata": {},
          "execution_count": 4
        }
      ]
    },
    {
      "cell_type": "markdown",
      "source": [
        "La propabilidad de un evento se calcula como\n",
        "\n",
        "$$\\mathbb{P}(A)=\\frac{\\# A}{\\# \\Omega}.$$\n",
        "\n",
        "Consideremos el siguiente evento:\n",
        "\n",
        "* $S$: la suma de los resultados de las caras sea 7\n",
        "\n",
        "\n"
      ],
      "metadata": {
        "id": "FcosuKLHLU5G"
      }
    },
    {
      "cell_type": "code",
      "source": [],
      "metadata": {
        "id": "yh44YvmrMoTF"
      },
      "execution_count": null,
      "outputs": []
    },
    {
      "cell_type": "code",
      "source": [
        "S = {o for o in Omega if (o[0]+o[1])==7}\n",
        "S"
      ],
      "metadata": {
        "colab": {
          "base_uri": "https://localhost:8080/"
        },
        "id": "gl-TjD1AMMuB",
        "outputId": "62e094ea-75c4-4782-ac19-27ea70a15c50"
      },
      "execution_count": 6,
      "outputs": [
        {
          "output_type": "execute_result",
          "data": {
            "text/plain": [
              "{(1, 6), (2, 5), (3, 4), (4, 3), (5, 2), (6, 1)}"
            ]
          },
          "metadata": {},
          "execution_count": 6
        }
      ]
    },
    {
      "cell_type": "code",
      "source": [
        "p = len(S)/len(Omega)\n",
        "print (f\"la probabilidad de la suma sea 7 es: (p)\")"
      ],
      "metadata": {
        "colab": {
          "base_uri": "https://localhost:8080/"
        },
        "id": "5fmgZjA1NO5s",
        "outputId": "6b54e860-4139-4166-de69-091193ccb9e0"
      },
      "execution_count": 8,
      "outputs": [
        {
          "output_type": "stream",
          "name": "stdout",
          "text": [
            "la probabilidad de la suma sea 7 es: (p)\n"
          ]
        }
      ]
    },
    {
      "cell_type": "code",
      "source": [
        "from fractions import Fraction\n",
        "Fraction(2,5)"
      ],
      "metadata": {
        "colab": {
          "base_uri": "https://localhost:8080/"
        },
        "id": "jJEguG6wOBWV",
        "outputId": "6c827503-814b-4067-8962-90f2dd51fcb4"
      },
      "execution_count": 9,
      "outputs": [
        {
          "output_type": "execute_result",
          "data": {
            "text/plain": [
              "Fraction(2, 5)"
            ]
          },
          "metadata": {},
          "execution_count": 9
        }
      ]
    },
    {
      "cell_type": "code",
      "source": [
        "\" vamos a crear una funcion para calcular probabilidades\"\n",
        "\n",
        "def S(n):\n",
        "  S = {o for o in Omega if (o[0]+o[1]==n)}\n",
        "  return S"
      ],
      "metadata": {
        "id": "G2JXDbS2OVem"
      },
      "execution_count": 15,
      "outputs": []
    },
    {
      "cell_type": "code",
      "source": [
        "S(3)"
      ],
      "metadata": {
        "colab": {
          "base_uri": "https://localhost:8080/"
        },
        "id": "djGZP_8RPB_2",
        "outputId": "7456ad17-c120-4e03-9b2b-63b648ad31a6"
      },
      "execution_count": 14,
      "outputs": [
        {
          "output_type": "execute_result",
          "data": {
            "text/plain": [
              "{(1, 2), (2, 1)}"
            ]
          },
          "metadata": {},
          "execution_count": 14
        }
      ]
    },
    {
      "cell_type": "code",
      "source": [
        "## vamos a crear la funcion de probabilidad\n",
        "def P(A, Omega):\n",
        "  return Fraction(len(A), len(Omega))"
      ],
      "metadata": {
        "id": "ygNNbMY3P1tB"
      },
      "execution_count": 16,
      "outputs": []
    },
    {
      "cell_type": "code",
      "source": [
        "P(S(7),Omega)"
      ],
      "metadata": {
        "colab": {
          "base_uri": "https://localhost:8080/"
        },
        "id": "Ru151VGeQFCD",
        "outputId": "ada43aff-0cb9-4a8f-98a8-976eba141131"
      },
      "execution_count": 17,
      "outputs": [
        {
          "output_type": "execute_result",
          "data": {
            "text/plain": [
              "Fraction(1, 6)"
            ]
          },
          "metadata": {},
          "execution_count": 17
        }
      ]
    },
    {
      "cell_type": "code",
      "source": [
        "P(S(9),Omega)"
      ],
      "metadata": {
        "colab": {
          "base_uri": "https://localhost:8080/"
        },
        "id": "44BDd3VQQPJb",
        "outputId": "cefab123-8426-415b-ccca-a71b68ab5a70"
      },
      "execution_count": 18,
      "outputs": [
        {
          "output_type": "execute_result",
          "data": {
            "text/plain": [
              "Fraction(1, 9)"
            ]
          },
          "metadata": {},
          "execution_count": 18
        }
      ]
    },
    {
      "cell_type": "markdown",
      "source": [
        "# Matrices y operaciones con matrices"
      ],
      "metadata": {
        "id": "CnIoArmDRBvb"
      }
    },
    {
      "cell_type": "code",
      "source": [
        "import numpy as np\n",
        "class Matriz:\n",
        "  def __init__(self, renglones, columnas):\n",
        "   self.renglones = renglones\n",
        "   self.columnas = columnas\n",
        "   self.coef = np.zeros((renglones, columnas))\n",
        "\n",
        "   def coeficientes(self):\n",
        "    print(f\"ingresa los coeficientes de la matriz ({self.renglones}x{self.columnas})\")\n",
        "    for i in range(self.renglones):\n",
        "      self.coef[i] = map(float, input().split())\n",
        "\n",
        "\n",
        "      def mostrar_matriz(self):\n",
        "         print (self.coef)\n",
        "\n",
        "\n",
        ""
      ],
      "metadata": {
        "id": "Z1rx7M9QRhYf"
      },
      "execution_count": 22,
      "outputs": []
    },
    {
      "cell_type": "code",
      "source": [
        "mat = np.array([25,45,67,8,0,1, 1,5,18]).reshape(3,3)\n",
        "np.linalg.det(mat)"
      ],
      "metadata": {
        "colab": {
          "base_uri": "https://localhost:8080/"
        },
        "id": "Z42mOmZlVyuy",
        "outputId": "8ed8e357-cd83-43ea-9587-8fcc967be6f2"
      },
      "execution_count": 25,
      "outputs": [
        {
          "output_type": "execute_result",
          "data": {
            "text/plain": [
              "-3879.999999999998"
            ]
          },
          "metadata": {},
          "execution_count": 25
        }
      ]
    },
    {
      "cell_type": "code",
      "source": [],
      "metadata": {
        "id": "QjxvvvcOTxp2"
      },
      "execution_count": null,
      "outputs": []
    }
  ]
}