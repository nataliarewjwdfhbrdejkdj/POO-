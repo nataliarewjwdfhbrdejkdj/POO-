{
  "nbformat": 4,
  "nbformat_minor": 0,
  "metadata": {
    "colab": {
      "provenance": []
    },
    "kernelspec": {
      "name": "python3",
      "display_name": "Python 3"
    },
    "language_info": {
      "name": "python"
    }
  },
  "cells": [
    {
      "cell_type": "markdown",
      "source": [
        "## Algunas funciones en Python\n",
        "\n",
        "1. Input\n",
        "2. Elemento de la lista\n",
        "3. map\n",
        "\n",
        "## Ejemplos de la función input"
      ],
      "metadata": {
        "id": "LRXBA_valomd"
      }
    },
    {
      "cell_type": "code",
      "source": [
        "Ceci = input(\"De quien es cumpleaños? \")"
      ],
      "metadata": {
        "colab": {
          "base_uri": "https://localhost:8080/"
        },
        "id": "YARHN-MznNKp",
        "outputId": "19dc333f-2d86-41b8-db02-9b8ffd107497"
      },
      "execution_count": 1,
      "outputs": [
        {
          "name": "stdout",
          "output_type": "stream",
          "text": [
            "De quien es cumpleaños? Ceci\n"
          ]
        }
      ]
    },
    {
      "cell_type": "code",
      "source": [
        "edad = int(input(\"Cuantos años cumples? \"))"
      ],
      "metadata": {
        "colab": {
          "base_uri": "https://localhost:8080/"
        },
        "id": "W6hWU1mVnapH",
        "outputId": "508b969e-0562-4ae4-b020-b1e0b21a6c19"
      },
      "execution_count": 4,
      "outputs": [
        {
          "name": "stdout",
          "output_type": "stream",
          "text": [
            "Cuantos años cumples? 19\n"
          ]
        }
      ]
    },
    {
      "cell_type": "code",
      "source": [
        "print(f\"hoy es cumple de {Ceci} y cumple {edad}\")"
      ],
      "metadata": {
        "colab": {
          "base_uri": "https://localhost:8080/"
        },
        "id": "qy9srKZAoNNW",
        "outputId": "3f719efa-4b60-4a4e-de99-932bd4e9d9bd"
      },
      "execution_count": 6,
      "outputs": [
        {
          "output_type": "stream",
          "name": "stdout",
          "text": [
            "hoy es cumple de Ceci y cumple 19\n"
          ]
        }
      ]
    },
    {
      "cell_type": "markdown",
      "source": [
        "## La funcion lambda\n",
        "\n",
        "Es una funcion anonima (no tiene nombre) y sirve para crear funciones ad hoc (dentro de un solo codigo)"
      ],
      "metadata": {
        "id": "1k_Jvcu-pB37"
      }
    },
    {
      "cell_type": "code",
      "source": [
        "def cuadrado(x):\n",
        "  z = x**2\n",
        "  return z"
      ],
      "metadata": {
        "id": "xN3rxAjEpNpD"
      },
      "execution_count": 7,
      "outputs": []
    },
    {
      "cell_type": "code",
      "source": [
        "cuadrado(25)"
      ],
      "metadata": {
        "colab": {
          "base_uri": "https://localhost:8080/"
        },
        "id": "Osl6yt-dpWyb",
        "outputId": "e92b8def-1f96-4a7c-b9bf-09948e273e46"
      },
      "execution_count": 8,
      "outputs": [
        {
          "output_type": "execute_result",
          "data": {
            "text/plain": [
              "625"
            ]
          },
          "metadata": {},
          "execution_count": 8
        }
      ]
    },
    {
      "cell_type": "code",
      "source": [
        "cuad = lambda x: x**2\n",
        "cuad(2)"
      ],
      "metadata": {
        "colab": {
          "base_uri": "https://localhost:8080/"
        },
        "id": "985uNRLEphr4",
        "outputId": "e2e3f181-ba65-428a-c4a2-136918b8151c"
      },
      "execution_count": 9,
      "outputs": [
        {
          "output_type": "execute_result",
          "data": {
            "text/plain": [
              "4"
            ]
          },
          "metadata": {},
          "execution_count": 9
        }
      ]
    },
    {
      "cell_type": "code",
      "source": [
        "operacion = lambda x,y: x**2 + x*y +2\n",
        "operacion(2,3)"
      ],
      "metadata": {
        "colab": {
          "base_uri": "https://localhost:8080/"
        },
        "id": "CiTtSVicqkt2",
        "outputId": "53a8b91f-d530-4b55-958f-5c178860637f"
      },
      "execution_count": 11,
      "outputs": [
        {
          "output_type": "execute_result",
          "data": {
            "text/plain": [
              "12"
            ]
          },
          "metadata": {},
          "execution_count": 11
        }
      ]
    },
    {
      "cell_type": "code",
      "source": [
        "import math\n",
        "from math import pi, e"
      ],
      "metadata": {
        "id": "9Fp0lM1urI5e"
      },
      "execution_count": 13,
      "outputs": []
    },
    {
      "cell_type": "code",
      "source": [
        "pi, e"
      ],
      "metadata": {
        "colab": {
          "base_uri": "https://localhost:8080/"
        },
        "id": "kgdYiMLPrSRa",
        "outputId": "b54fc630-46bd-42b5-dd0a-cda7f79937f7"
      },
      "execution_count": 15,
      "outputs": [
        {
          "output_type": "execute_result",
          "data": {
            "text/plain": [
              "(3.141592653589793, 2.718281828459045)"
            ]
          },
          "metadata": {},
          "execution_count": 15
        }
      ]
    },
    {
      "cell_type": "code",
      "source": [
        "area_circulo = lambda r: pi*r**2\n",
        "area_circulo(10)"
      ],
      "metadata": {
        "colab": {
          "base_uri": "https://localhost:8080/"
        },
        "id": "7pyzR2lnrbYw",
        "outputId": "c2494a33-6fa3-46cc-ecb6-85ff93a1b4a2"
      },
      "execution_count": 16,
      "outputs": [
        {
          "output_type": "execute_result",
          "data": {
            "text/plain": [
              "314.1592653589793"
            ]
          },
          "metadata": {},
          "execution_count": 16
        }
      ]
    },
    {
      "cell_type": "markdown",
      "source": [
        "## La funcion map\n",
        "\n",
        "significa mapear"
      ],
      "metadata": {
        "id": "yKk9cIJ9rtpR"
      }
    },
    {
      "cell_type": "code",
      "source": [
        "residuo = list(map(lambda x : x%2 , [i for i in range(1,101)]))"
      ],
      "metadata": {
        "id": "lKjltihasV50"
      },
      "execution_count": 18,
      "outputs": []
    },
    {
      "cell_type": "code",
      "source": [
        "def residuo_(x):\n",
        "  for x in range(1,101):\n",
        "    return x%2"
      ],
      "metadata": {
        "id": "C_YSbhQnu7RW"
      },
      "execution_count": 19,
      "outputs": []
    },
    {
      "cell_type": "code",
      "source": [
        "residuo_(3)"
      ],
      "metadata": {
        "colab": {
          "base_uri": "https://localhost:8080/"
        },
        "id": "pxIWLWMTvI4I",
        "outputId": "4fcb81c6-12a3-4949-bd87-194a811ade5e"
      },
      "execution_count": 20,
      "outputs": [
        {
          "output_type": "execute_result",
          "data": {
            "text/plain": [
              "1"
            ]
          },
          "metadata": {},
          "execution_count": 20
        }
      ]
    },
    {
      "cell_type": "code",
      "source": [
        "exponenciales = set(map(lambda x : e**x , [i for i in range(1,10)]))\n",
        "exponenciales"
      ],
      "metadata": {
        "colab": {
          "base_uri": "https://localhost:8080/"
        },
        "id": "NgcfUvC5vb3g",
        "outputId": "19661493-1f3c-475c-80ce-ac0827f240d6"
      },
      "execution_count": 22,
      "outputs": [
        {
          "output_type": "execute_result",
          "data": {
            "text/plain": [
              "{2.718281828459045,\n",
              " 7.3890560989306495,\n",
              " 20.085536923187664,\n",
              " 54.59815003314423,\n",
              " 148.41315910257657,\n",
              " 403.428793492735,\n",
              " 1096.6331584284583,\n",
              " 2980.957987041727,\n",
              " 8103.08392757538}"
            ]
          },
          "metadata": {},
          "execution_count": 22
        }
      ]
    }
  ]
}